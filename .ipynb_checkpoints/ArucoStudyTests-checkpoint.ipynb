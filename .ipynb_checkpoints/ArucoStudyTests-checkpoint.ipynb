{
 "cells": [
  {
   "cell_type": "code",
   "execution_count": 1,
   "id": "c87489c4",
   "metadata": {},
   "outputs": [],
   "source": [
    "import cv2\n",
    "import matplotlib.pyplot as plt\n",
    "import math"
   ]
  },
  {
   "cell_type": "markdown",
   "id": "7503f192",
   "metadata": {},
   "source": [
    "# IMPORT THE CALIBRATION VIDEO"
   ]
  },
  {
   "cell_type": "code",
   "execution_count": 8,
   "id": "a3959a6f",
   "metadata": {},
   "outputs": [
    {
     "data": {
      "text/plain": [
       "23.5"
      ]
     },
     "execution_count": 8,
     "metadata": {},
     "output_type": "execute_result"
    }
   ],
   "source": [
    "\n",
    "VIDFile = 'data/CharucoCalibVID.mp4'\n",
    "imgs_folder = \"./data/imgs/\"                               # Folder to store the images from the calibration Video\n",
    "capture = cv2.VideoCapture(VIDFile)\n",
    "\n",
    "Nframes = int(capture.get(cv2.CAP_PROP_FRAME_COUNT))       # Number of frames in the Video File\n",
    "# Nframes/30                                                 # Time duration of Video File"
   ]
  },
  {
   "cell_type": "code",
   "execution_count": null,
   "id": "3100ba2c",
   "metadata": {},
   "outputs": [],
   "source": []
  },
  {
   "cell_type": "code",
   "execution_count": null,
   "id": "1df5735d",
   "metadata": {},
   "outputs": [],
   "source": []
  }
 ],
 "metadata": {
  "kernelspec": {
   "display_name": "Python 3 (ipykernel)",
   "language": "python",
   "name": "python3"
  },
  "language_info": {
   "codemirror_mode": {
    "name": "ipython",
    "version": 3
   },
   "file_extension": ".py",
   "mimetype": "text/x-python",
   "name": "python",
   "nbconvert_exporter": "python",
   "pygments_lexer": "ipython3",
   "version": "3.10.10"
  }
 },
 "nbformat": 4,
 "nbformat_minor": 5
}
